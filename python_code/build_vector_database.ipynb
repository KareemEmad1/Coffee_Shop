{
 "cells": [
  {
   "cell_type": "code",
   "execution_count": 1,
   "metadata": {},
   "outputs": [
    {
     "name": "stderr",
     "output_type": "stream",
     "text": [
      "C:\\Users\\karee\\AppData\\Local\\Packages\\PythonSoftwareFoundation.Python.3.11_qbz5n2kfra8p0\\LocalCache\\local-packages\\Python311\\site-packages\\pinecone\\data\\index.py:1: TqdmWarning: IProgress not found. Please update jupyter and ipywidgets. See https://ipywidgets.readthedocs.io/en/stable/user_install.html\n",
      "  from tqdm.autonotebook import tqdm\n"
     ]
    },
    {
     "data": {
      "text/plain": [
       "True"
      ]
     },
     "execution_count": 1,
     "metadata": {},
     "output_type": "execute_result"
    }
   ],
   "source": [
    "from pinecone import Pinecone, ServerlessSpec\n",
    "from openai import OpenAI\n",
    "import time\n",
    "import pandas as pd\n",
    "import os\n",
    "import dotenv\n",
    "dotenv.load_dotenv()"
   ]
  },
  {
   "cell_type": "code",
   "execution_count": 3,
   "metadata": {},
   "outputs": [],
   "source": [
    "token = os.getenv(\"RUNPOD_TOKEN\")\n",
    "open_ai_base_url= os.getenv(\"RUNPOD_EMBEDDING_URL\")\n",
    "model_name = os.getenv(\"MODEL_NAME\")\n",
    "pinecone_api_key = os.getenv(\"PINECONE_API_KEY\")\n",
    "index_name = os.getenv(\"PINECONE_INDEX_NAME\")"
   ]
  },
  {
   "cell_type": "code",
   "execution_count": 4,
   "metadata": {},
   "outputs": [],
   "source": [
    "pc = Pinecone(api_key=pinecone_api_key)\n",
    "client = OpenAI(api_key=token, base_url=open_ai_base_url)"
   ]
  },
  {
   "cell_type": "code",
   "execution_count": null,
   "metadata": {},
   "outputs": [],
   "source": []
  },
  {
   "cell_type": "markdown",
   "metadata": {},
   "source": [
    "## Try out embeddings"
   ]
  },
  {
   "cell_type": "code",
   "execution_count": 6,
   "metadata": {},
   "outputs": [
    {
     "name": "stdout",
     "output_type": "stream",
     "text": [
      "[-0.03214000165462494, -0.05115540325641632, 0.03696252778172493, -0.05100279301404953, 0.028492582961916924, 0.020663609728217125, 0.037206705659627914, 0.08094518631696701, 0.012170773930847645, 0.015406140126287937, 0.008057891391217709, -0.03305567055940628, 0.03259783610701561, 0.060128964483737946, 0.030064482241868973, 0.019992118701338768, 0.0056084757670760155, -0.023044349625706673, -0.13124597072601318, -0.006180769298225641, 0.06940774619579315, 0.0671490952372551, -0.014314967207610607, -0.05741247907280922, 0.0011436330387368798, -0.003426130162551999, -0.024982517585158348, 0.02060256339609623, 0.007386400830000639, -0.14614085853099823, -0.04419631510972977, -0.028111053630709648, 0.042517587542533875, -0.0014851015293970704, 0.011812136508524418, -0.022647559642791748, 0.043128035962581635, 0.013483233749866486, -0.08131145685911179, 0.021640323102474213, 0.03058336116373539, -0.03607738018035889, 0.029988177120685577, 0.00032215352985076606, 0.015841083601117134, -0.05207107216119766, 0.022845953702926636, 0.031743209809064865, -0.08289861679077148, 0.012422583065927029, -0.009026975370943546, 0.00990449171513319, -0.03754245117306709, -0.007001056335866451, 0.03104119747877121, 0.09181112796068192, 0.06525671482086182, -0.015253528021275997, 0.04740116000175476, 0.013162748888134956, 0.029560863971710205, 0.023502184078097343, -0.11970853060483932, 0.11824345588684082, -0.03198738768696785, -0.020648347213864326, 0.014017374254763126, 0.019931072369217873, -0.0030217093881219625, -0.02449415996670723, 0.0007153667975217104, 0.005150640849024057, 0.01764190010726452, 0.03467335179448128, 0.020862003788352013, -0.01201816275715828, 0.020037900656461716, -0.02635602094233036, 0.04065572842955589, -0.024433115497231483, -0.020083684474229813, -0.008912516757845879, 0.007294833660125732, 0.01303302962332964, -0.0374203622341156, -0.016573619097471237, -0.046546533703804016, 0.056069497019052505, -0.03171268850564957, -0.009675574488937855, -0.03140746429562569, -0.05548957362771034, 0.03210947662591934, 0.04538668692111969, -0.05487912520766258, -0.02353270724415779, 0.001472701784223318, 0.006733986083418131, -0.07447445392608643, 0.35479140281677246, -0.07264311611652374, 0.02962190844118595, 0.08692756295204163, -0.09956379979848862, -0.004490595776587725, 0.03152955323457718, 0.00216708448715508, 0.014559145085513592, -0.023212222382426262, -0.018755963072180748, 0.013666367158293724, -0.03418499603867531, 0.04428788274526596, -0.015535859391093254, 0.01886279135942459, -0.06659969687461853, 0.03326932713389397, -0.023486923426389694, 0.11158959567546844, -0.03400186076760292, 0.024768861010670662, 0.021930284798145294, 0.010583613999187946, 0.020236296579241753, 0.05381084606051445, -0.04697384685277939, 0.06574507057666779, 0.05719882249832153, 0.0025772282388061285, 0.07886967062950134, 0.02447889931499958, 0.10426423698663712, -0.05475703626871109, 0.00593277532607317, 0.0044677043333649635, 0.037695061415433884, 0.015261158347129822, 0.005906068254262209, 0.03677939251065254, -0.003168598050251603, -0.014871998690068722, -0.0592438168823719, -0.05066704750061035, -0.10713333636522293, -0.02244916372001171, 0.022555992007255554, -0.05689359828829765, 0.012063945643603802, -0.004570716992020607, 0.026707027107477188, -0.027088556438684464, 0.031224330887198448, -0.03296410292387009, -0.013628214597702026, 0.0065737441182136536, 0.006131170317530632, 0.03287253528833389, 0.036596257239580154, 0.025318263098597527, 0.012666761875152588, -0.004200634080916643, 0.02493673376739025, -0.02917933464050293, -0.020068423822522163, -0.07508490234613419, -0.14284443855285645, -0.009225370362401009, -0.021258793771266937, -0.00811893679201603, 0.0032868720591068268, 0.0032735185232013464, 0.015345094725489616, -0.06818685680627823, 0.033452458679676056, 0.09309306740760803, 0.02884358912706375, 0.005658074747771025, 0.057320911437273026, -0.02434154786169529, 0.008538618683815002, 0.025623485445976257, -0.024585725739598274, 0.0010081903310492635, 0.004833972081542015, -0.0032868720591068268, -0.04425736144185066, -0.006657680496573448, 0.026890162378549576, 0.013910545967519283, 0.03326932713389397, -0.0024856613017618656, 0.015841083601117134, -0.026645982638001442, -0.002243390306830406, -0.027668479830026627, 0.005345220677554607, 0.05643576383590698, -0.02591344714164734, 0.024845166131854057, -0.03336089104413986, 0.061838213354349136, -0.03992319107055664, 0.014810954220592976, 0.04010632634162903, 0.04450153931975365, 0.0016186366556212306, 0.032689400017261505, 0.008790427818894386, 0.059182774275541306, 0.0051010423339903355, -0.04645496606826782, -0.036413125693798065, 0.10658393055200577, 0.02309013344347477, 0.012529411353170872, -0.026157625019550323, -0.040625203400850296, 0.028660455718636513, -0.037176184356212616, -0.0007377816364169121, 0.006733986083418131, -0.030156049877405167, -0.07600057125091553, -0.2827587425708771, 0.05399397760629654, -0.02260177582502365, -0.020327864214777946, 0.005711488425731659, -0.019564805552363396, 0.06672178208827972, -0.0028958048205822706, 0.09120068699121475, -0.005524539388716221, 0.05829762667417526, -0.07056760042905807, 0.041113562881946564, -0.05518434941768646, 0.011438238434493542, 0.02043469063937664, -0.013689259067177773, -0.05680203437805176, 0.022861216217279434, -0.03513118624687195, 0.021472450345754623, -0.013406927697360516, 0.0025409830268472433, -0.04914093017578125, -0.02618814818561077, -0.02591344714164734, 0.12685075402259827, 0.1794712245464325, 0.052773088216781616, 0.009622160345315933, 0.039068564772605896, 0.01303302962332964, -0.029591387137770653, -0.17556436359882355, 0.011506913229823112, 0.05036182329058647, -0.0128804175183177, -0.06281492859125137, -0.09461918473243713, 0.00983581691980362, -0.005597029812633991, 0.02402106299996376, -0.010637027211487293, -0.003805751446634531, -0.011018556542694569, -0.07795400172472, -0.05658837780356407, 0.015657948330044746, -0.05176585167646408, -0.011529805138707161, 0.012926201336085796, 0.003000725293532014, -0.003948824945837259, 0.07368087768554688, -0.02774478681385517, -0.07007923722267151, 0.00959163811057806, -0.023334311321377754, -0.014429425820708275, 0.0608004555106163, 0.014208138920366764, 0.025974491611123085, -0.015841083601117134, 0.011430608108639717, -0.04117460548877716, 0.060586798936128616, -0.05539800599217415, -0.0042044492438435555, 0.0872938260436058, -0.018053950741887093, -0.03961796686053276, -0.03577215597033501, 0.025333523750305176, -0.025608224794268608, 0.038915954530239105, 0.037664540112018585, -0.006096832919865847, 0.030079742893576622, -0.03381872922182083, -0.07673310488462448, 0.005864100065082312, -0.03897700086236, 0.05594740808010101, 0.003263980383053422, 0.015078024938702583, 0.055123306810855865, 0.047034889459609985, -0.01576477661728859, -0.00484160240739584, -0.029408251866698265, -0.04978189989924431, 0.0024742153473198414, 0.011232213117182255, -0.06751536577939987, 0.022433903068304062, -0.06794267892837524, -0.2727474272251129, 0.048896752297878265, -0.009347459301352501, 0.033635593950748444, -0.0499039888381958, 0.06147194653749466, 0.05661889910697937, -0.012002901174128056, -0.04352482408285141, 0.017596116289496422, -0.06586716324090958, 0.0019610589370131493, 0.001406888011842966, -0.01014867052435875, 0.0005308021791279316, 0.053566668182611465, 0.007203266955912113, -0.008294439874589443, -0.010423371568322182, -0.011560327373445034, 0.012796481139957905, 0.013559539802372456, 0.15676261484622955, -0.04260915517807007, 0.060159485787153244, 0.029454035684466362, 0.007123145740479231, 0.022876476868987083, -0.020953571423888206, -0.018481263890862465, -0.032048434019088745, 0.00063858408248052, 0.000167872742167674, -0.03525327518582344, 0.027851615101099014, 0.006024342495948076, -0.018832270056009293, -0.003805751446634531, 0.03305567055940628, -0.026935944333672523, -0.07111699879169464, 0.04648549109697342, -0.0218539796769619, 0.02588292583823204, 0.019091708585619926, -0.05503173917531967, -0.010904097929596901, -0.008691229857504368, 0.030476534739136696, 0.03977058082818985, -0.02513512782752514, 0.007836605422198772, 0.0044829654507339, 0.021441927179694176, -0.020938308909535408, -0.04645496606826782, 0.01608526147902012, -0.01635996252298355, 0.03760349377989769, -0.031224330887198448, -0.009408504702150822, -0.024539943784475327, 0.057626135647296906, 0.04633287712931633, -0.004688990768045187]\n"
     ]
    }
   ],
   "source": [
    "output = client.embeddings.create(input=\"Hello, world!\", model=model_name)\n",
    "embedding = output.data[0].embedding\n",
    "print(embedding)"
   ]
  },
  {
   "cell_type": "code",
   "execution_count": 7,
   "metadata": {},
   "outputs": [
    {
     "data": {
      "text/plain": [
       "384"
      ]
     },
     "execution_count": 7,
     "metadata": {},
     "output_type": "execute_result"
    }
   ],
   "source": [
    "len(embedding)"
   ]
  },
  {
   "cell_type": "markdown",
   "metadata": {},
   "source": [
    "# Wrangle dataset"
   ]
  },
  {
   "cell_type": "code",
   "execution_count": 8,
   "metadata": {},
   "outputs": [],
   "source": [
    "df = pd.read_json(\"products/products.jsonl\", lines=True)"
   ]
  },
  {
   "cell_type": "code",
   "execution_count": 9,
   "metadata": {},
   "outputs": [
    {
     "data": {
      "text/html": [
       "<div>\n",
       "<style scoped>\n",
       "    .dataframe tbody tr th:only-of-type {\n",
       "        vertical-align: middle;\n",
       "    }\n",
       "\n",
       "    .dataframe tbody tr th {\n",
       "        vertical-align: top;\n",
       "    }\n",
       "\n",
       "    .dataframe thead th {\n",
       "        text-align: right;\n",
       "    }\n",
       "</style>\n",
       "<table border=\"1\" class=\"dataframe\">\n",
       "  <thead>\n",
       "    <tr style=\"text-align: right;\">\n",
       "      <th></th>\n",
       "      <th>name</th>\n",
       "      <th>category</th>\n",
       "      <th>description</th>\n",
       "      <th>ingredients</th>\n",
       "      <th>price</th>\n",
       "      <th>rating</th>\n",
       "      <th>image_path</th>\n",
       "    </tr>\n",
       "  </thead>\n",
       "  <tbody>\n",
       "    <tr>\n",
       "      <th>0</th>\n",
       "      <td>Cappuccino</td>\n",
       "      <td>Coffee</td>\n",
       "      <td>A rich and creamy cappuccino made with freshly...</td>\n",
       "      <td>[Espresso, Steamed Milk, Milk Foam]</td>\n",
       "      <td>4.50</td>\n",
       "      <td>4.7</td>\n",
       "      <td>cappuccino.jpg</td>\n",
       "    </tr>\n",
       "    <tr>\n",
       "      <th>1</th>\n",
       "      <td>Jumbo Savory Scone</td>\n",
       "      <td>Bakery</td>\n",
       "      <td>Deliciously flaky and buttery, this jumbo savo...</td>\n",
       "      <td>[Flour, Butter, Cheese, Herbs, Baking Powder, ...</td>\n",
       "      <td>3.25</td>\n",
       "      <td>4.3</td>\n",
       "      <td>SavoryScone.webp</td>\n",
       "    </tr>\n",
       "  </tbody>\n",
       "</table>\n",
       "</div>"
      ],
      "text/plain": [
       "                 name category  \\\n",
       "0          Cappuccino   Coffee   \n",
       "1  Jumbo Savory Scone   Bakery   \n",
       "\n",
       "                                         description  \\\n",
       "0  A rich and creamy cappuccino made with freshly...   \n",
       "1  Deliciously flaky and buttery, this jumbo savo...   \n",
       "\n",
       "                                         ingredients  price  rating  \\\n",
       "0                [Espresso, Steamed Milk, Milk Foam]   4.50     4.7   \n",
       "1  [Flour, Butter, Cheese, Herbs, Baking Powder, ...   3.25     4.3   \n",
       "\n",
       "         image_path  \n",
       "0    cappuccino.jpg  \n",
       "1  SavoryScone.webp  "
      ]
     },
     "execution_count": 9,
     "metadata": {},
     "output_type": "execute_result"
    }
   ],
   "source": [
    "df.head(2)"
   ]
  },
  {
   "cell_type": "code",
   "execution_count": 10,
   "metadata": {},
   "outputs": [],
   "source": [
    "df['text'] = df['name']+\" : \"+df[\"description\"]+\\\n",
    "    \" -- Ingredients: \"+df[\"ingredients\"].astype(str) +\\\n",
    "    \" -- Price: \"+ df[\"price\"].astype(str) +\\\n",
    "    \" -- Rating: \"+ df[\"rating\"].astype(str)"
   ]
  },
  {
   "cell_type": "code",
   "execution_count": 11,
   "metadata": {},
   "outputs": [
    {
     "data": {
      "text/plain": [
       "0    Cappuccino : A rich and creamy cappuccino made...\n",
       "1    Jumbo Savory Scone : Deliciously flaky and but...\n",
       "Name: text, dtype: object"
      ]
     },
     "execution_count": 11,
     "metadata": {},
     "output_type": "execute_result"
    }
   ],
   "source": [
    "df['text'].head(2)"
   ]
  },
  {
   "cell_type": "code",
   "execution_count": 12,
   "metadata": {},
   "outputs": [],
   "source": [
    "texts = df['text'].tolist()"
   ]
  },
  {
   "cell_type": "code",
   "execution_count": 13,
   "metadata": {},
   "outputs": [],
   "source": [
    "with open(\"products/Merry's_way_about_us.txt\") as file:\n",
    "    Merry_way_about_section = file.read()\n",
    "\n",
    "Merry_way_about_section = \"Coffee shop Merry's Way about section: \"+Merry_way_about_section\n",
    "texts.append(Merry_way_about_section)"
   ]
  },
  {
   "cell_type": "code",
   "execution_count": 14,
   "metadata": {},
   "outputs": [],
   "source": [
    "with open(\"products/menu_items_text.txt\") as file:\n",
    "    menu_items_text = file.read()\n",
    "\n",
    "menu_items_text = \"Menu Items: \"+menu_items_text\n",
    "texts.append(menu_items_text)"
   ]
  },
  {
   "cell_type": "code",
   "execution_count": null,
   "metadata": {},
   "outputs": [],
   "source": []
  },
  {
   "cell_type": "markdown",
   "metadata": {},
   "source": [
    "## Generate Embeddings"
   ]
  },
  {
   "cell_type": "code",
   "execution_count": 15,
   "metadata": {},
   "outputs": [],
   "source": [
    "output = client.embeddings.create(input=texts, model=model_name)"
   ]
  },
  {
   "cell_type": "code",
   "execution_count": 16,
   "metadata": {},
   "outputs": [],
   "source": [
    "embeddings = output.data"
   ]
  },
  {
   "cell_type": "code",
   "execution_count": null,
   "metadata": {},
   "outputs": [],
   "source": []
  },
  {
   "cell_type": "markdown",
   "metadata": {},
   "source": [
    "## Push data to database"
   ]
  },
  {
   "cell_type": "code",
   "execution_count": null,
   "metadata": {},
   "outputs": [],
   "source": [
    "pc.create_index(\n",
    "    name=index_name, \n",
    "    dimension=384, \n",
    "    metric=\"cosine\",\n",
    "    spec= ServerlessSpec(\n",
    "        cloud=\"aws\",\n",
    "        region=\"us-east-1\", \n",
    "    )\n",
    "    \n",
    ")"
   ]
  },
  {
   "cell_type": "code",
   "execution_count": 20,
   "metadata": {},
   "outputs": [
    {
     "data": {
      "text/plain": [
       "{'upserted_count': 20}"
      ]
     },
     "execution_count": 20,
     "metadata": {},
     "output_type": "execute_result"
    }
   ],
   "source": [
    "while not pc.describe_index(index_name).status.ready:\n",
    "    time.sleep(1)\n",
    "\n",
    "\n",
    "index = pc.Index(index_name)\n",
    "\n",
    "vectors = []\n",
    "for text,e in zip(texts,embeddings):\n",
    "    entry_id = text.split(\":\")[0]\n",
    "    vectors.append({\n",
    "        \"id\": entry_id,\n",
    "        \"values\":e.embedding,\n",
    "        \"metadata\": {\"text\": text}\n",
    "    })\n",
    "index.upsert(vectors=vectors,\n",
    "             namespace='ns1')"
   ]
  },
  {
   "cell_type": "code",
   "execution_count": null,
   "metadata": {},
   "outputs": [],
   "source": []
  },
  {
   "cell_type": "markdown",
   "metadata": {},
   "source": [
    "# Get Closest Documents"
   ]
  },
  {
   "cell_type": "code",
   "execution_count": 21,
   "metadata": {},
   "outputs": [],
   "source": [
    "output = client.embeddings.create(input=[\"Is Cappuccino lactuse-free?\"], model=model_name)\n",
    "embedding = output.data[0].embedding"
   ]
  },
  {
   "cell_type": "code",
   "execution_count": 22,
   "metadata": {},
   "outputs": [],
   "source": [
    "results = index.query(\n",
    "    namespace='ns1',\n",
    "    vector=embedding,\n",
    "    top_k=3,\n",
    "    include_values=False,\n",
    "    include_metadata=True\n",
    ")"
   ]
  },
  {
   "cell_type": "code",
   "execution_count": 23,
   "metadata": {},
   "outputs": [
    {
     "data": {
      "text/plain": [
       "{'matches': [{'id': 'Cappuccino ',\n",
       "              'metadata': {'text': 'Cappuccino : A rich and creamy cappuccino '\n",
       "                                   'made with freshly brewed espresso, steamed '\n",
       "                                   'milk, and a frothy milk cap. This '\n",
       "                                   'delightful drink offers a perfect balance '\n",
       "                                   'of bold coffee flavor and smooth milk, '\n",
       "                                   'making it an ideal companion for relaxing '\n",
       "                                   'mornings or lively conversations. -- '\n",
       "                                   \"Ingredients: ['Espresso', 'Steamed Milk', \"\n",
       "                                   \"'Milk Foam'] -- Price: 4.5 -- Rating: 4.7\"},\n",
       "              'score': 0.696032405,\n",
       "              'values': []},\n",
       "             {'id': 'Menu Items',\n",
       "              'metadata': {'text': 'Menu Items: Menu Items\\n'\n",
       "                                   '\\n'\n",
       "                                   'Cappuccino - $4.50\\n'\n",
       "                                   'Jumbo Savory Scone - $3.25\\n'\n",
       "                                   'Latte - $4.75\\n'\n",
       "                                   'Chocolate Chip Biscotti - $2.50\\n'\n",
       "                                   'Espresso shot - $2.00\\n'\n",
       "                                   'Hazelnut Biscotti - $2.75\\n'\n",
       "                                   'Chocolate Croissant - $3.75\\n'\n",
       "                                   'Dark chocolate (Drinking Chocolate) - '\n",
       "                                   '$5.00\\n'\n",
       "                                   'Cranberry Scone - $3.50\\n'\n",
       "                                   'Croissant - $3.25\\n'\n",
       "                                   'Almond Croissant - $4.00\\n'\n",
       "                                   'Ginger Biscotti - $2.50\\n'\n",
       "                                   'Oatmeal Scone - $3.25\\n'\n",
       "                                   'Ginger Scone - $3.50\\n'\n",
       "                                   'Chocolate syrup - $1.50\\n'\n",
       "                                   'Hazelnut syrup - $1.50\\n'\n",
       "                                   'Carmel syrup - $1.50\\n'\n",
       "                                   'Sugar Free Vanilla syrup - $1.50\\n'\n",
       "                                   'Dark chocolate (Packaged Chocolate) - '\n",
       "                                   '$3.00'},\n",
       "              'score': 0.617046714,\n",
       "              'values': []},\n",
       "             {'id': 'Sugar Free Vanilla syrup ',\n",
       "              'metadata': {'text': 'Sugar Free Vanilla syrup : Enjoy the sweet '\n",
       "                                   'flavor of vanilla without the sugar, '\n",
       "                                   'making it perfect for your coffee or '\n",
       "                                   'dessert. This syrup offers a guilt-free '\n",
       "                                   'way to enhance your beverages, ensuring '\n",
       "                                   'you never miss out on flavor. -- '\n",
       "                                   \"Ingredients: ['Water', 'Natural Flavors', \"\n",
       "                                   \"'Sucralose'] -- Price: 1.5 -- Rating: 4.4\"},\n",
       "              'score': 0.59449333,\n",
       "              'values': []}],\n",
       " 'namespace': 'ns1',\n",
       " 'usage': {'read_units': 6}}"
      ]
     },
     "execution_count": 23,
     "metadata": {},
     "output_type": "execute_result"
    }
   ],
   "source": [
    "results"
   ]
  },
  {
   "cell_type": "code",
   "execution_count": null,
   "metadata": {},
   "outputs": [],
   "source": []
  },
  {
   "cell_type": "code",
   "execution_count": null,
   "metadata": {},
   "outputs": [],
   "source": []
  }
 ],
 "metadata": {
  "kernelspec": {
   "display_name": "Python 3",
   "language": "python",
   "name": "python3"
  },
  "language_info": {
   "codemirror_mode": {
    "name": "ipython",
    "version": 3
   },
   "file_extension": ".py",
   "mimetype": "text/x-python",
   "name": "python",
   "nbconvert_exporter": "python",
   "pygments_lexer": "ipython3",
   "version": "3.11.9"
  }
 },
 "nbformat": 4,
 "nbformat_minor": 2
}
