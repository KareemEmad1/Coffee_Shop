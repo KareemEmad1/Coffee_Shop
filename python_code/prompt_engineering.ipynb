{
 "cells": [
  {
   "cell_type": "code",
   "execution_count": null,
   "metadata": {},
   "outputs": [],
   "source": []
  },
  {
   "cell_type": "code",
   "execution_count": 1,
   "metadata": {},
   "outputs": [
    {
     "data": {
      "text/plain": [
       "True"
      ]
     },
     "execution_count": 1,
     "metadata": {},
     "output_type": "execute_result"
    }
   ],
   "source": [
    "import openai\n",
    "from openai import OpenAI\n",
    "import os\n",
    "import json\n",
    "from sklearn.metrics.pairwise import cosine_similarity\n",
    "from dotenv import load_dotenv\n",
    "load_dotenv()"
   ]
  },
  {
   "cell_type": "code",
   "execution_count": null,
   "metadata": {},
   "outputs": [],
   "source": []
  },
  {
   "cell_type": "code",
   "execution_count": 2,
   "metadata": {},
   "outputs": [],
   "source": [
    "client = OpenAI(\n",
    "    api_key = os.getenv('RUNPOD_TOKEN'),\n",
    "    base_url = os.getenv('RUNPOD_CHATBOT_URL'),\n",
    ")\n",
    "model_name = os.getenv(\"MODEL_NAME\")"
   ]
  },
  {
   "cell_type": "code",
   "execution_count": 3,
   "metadata": {},
   "outputs": [],
   "source": [
    "def get_chatbot_response(client,model_name,messages,temperature=0):\n",
    "    input_messages = []\n",
    "    for message in messages:\n",
    "        input_messages.append({\"role\": message[\"role\"], \"content\": message[\"content\"]})\n",
    "\n",
    "    response = client.chat.completions.create(\n",
    "        model=model_name,\n",
    "        messages=input_messages,\n",
    "        temperature=temperature,\n",
    "        top_p=0.8,\n",
    "        max_tokens=2000,\n",
    "    ).choices[0].message.content    \n",
    "    \n",
    "    return response"
   ]
  },
  {
   "cell_type": "markdown",
   "metadata": {},
   "source": [
    "# Get LLM response"
   ]
  },
  {
   "cell_type": "code",
   "execution_count": 4,
   "metadata": {},
   "outputs": [],
   "source": [
    "messages = [{\"role\":\"system\",\"content\":\"What is the capital of Mexico?\"}]\n",
    "\n",
    "response = get_chatbot_response(client,model_name,messages)"
   ]
  },
  {
   "cell_type": "code",
   "execution_count": 5,
   "metadata": {},
   "outputs": [
    {
     "data": {
      "text/plain": [
       "'The capital of Mexico is Mexico City.'"
      ]
     },
     "execution_count": 5,
     "metadata": {},
     "output_type": "execute_result"
    }
   ],
   "source": [
    "response"
   ]
  },
  {
   "cell_type": "markdown",
   "metadata": {},
   "source": [
    "# Prompt Engineering"
   ]
  },
  {
   "cell_type": "markdown",
   "metadata": {},
   "source": [
    "## Structured Output"
   ]
  },
  {
   "cell_type": "code",
   "execution_count": 5,
   "metadata": {},
   "outputs": [
    {
     "name": "stdout",
     "output_type": "stream",
     "text": [
      "[\n",
      "{\n",
      "    \"country\": \"Egypt\",\n",
      "    \"capital\": \"Cairo\"\n",
      "}\n",
      "]\n"
     ]
    }
   ],
   "source": [
    "system_prompt = \"\"\" \n",
    "\n",
    "You are a helpful assistant that answers questions about capitals of countries.\n",
    "\n",
    "Your output should be in a structured json format exactly like the on below. You are not allowed to write anything other than the json object.\n",
    "[\n",
    "{\n",
    "    \"country\": the country that you will get the capital of\n",
    "    \"capital\": the capital of the country stated\n",
    "}\n",
    "]\n",
    "\n",
    "\"\"\"\n",
    "\n",
    "messages = [{\"role\":\"system\",\"content\":system_prompt}]\n",
    "messages.append({\"role\":\"user\",\"content\":\"What is the capital of Egypt?\"})\n",
    "response = get_chatbot_response(client,model_name,messages)\n",
    "print(response)"
   ]
  },
  {
   "cell_type": "code",
   "execution_count": 6,
   "metadata": {},
   "outputs": [
    {
     "data": {
      "text/plain": [
       "str"
      ]
     },
     "execution_count": 6,
     "metadata": {},
     "output_type": "execute_result"
    }
   ],
   "source": [
    "type(response)"
   ]
  },
  {
   "cell_type": "code",
   "execution_count": 7,
   "metadata": {},
   "outputs": [
    {
     "data": {
      "text/plain": [
       "[{'country': 'Egypt', 'capital': 'Cairo'}]"
      ]
     },
     "execution_count": 7,
     "metadata": {},
     "output_type": "execute_result"
    }
   ],
   "source": [
    "json_response = json.loads(response)\n",
    "json_response"
   ]
  },
  {
   "cell_type": "code",
   "execution_count": 9,
   "metadata": {},
   "outputs": [
    {
     "data": {
      "text/plain": [
       "(dict, 'Cairo')"
      ]
     },
     "execution_count": 9,
     "metadata": {},
     "output_type": "execute_result"
    }
   ],
   "source": [
    "type(json_response[0]),json_response[0]['capital']"
   ]
  },
  {
   "cell_type": "code",
   "execution_count": null,
   "metadata": {},
   "outputs": [],
   "source": []
  },
  {
   "cell_type": "code",
   "execution_count": null,
   "metadata": {},
   "outputs": [],
   "source": []
  },
  {
   "cell_type": "markdown",
   "metadata": {},
   "source": [
    "## Input Structuring"
   ]
  },
  {
   "cell_type": "code",
   "execution_count": 10,
   "metadata": {},
   "outputs": [
    {
     "name": "stdout",
     "output_type": "stream",
     "text": [
      "[\n",
      "{\n",
      "    \"country\": \"Egypt\",\n",
      "    \"capital\": \"Cairo\"\n",
      "},\n",
      "{\n",
      "    \"country\": \"Italy\",\n",
      "    \"capital\": \"Rome\"\n",
      "},\n",
      "{\n",
      "    \"country\": \"Germany\",\n",
      "    \"capital\": \"Berlin\"\n",
      "}\n",
      "]\n"
     ]
    }
   ],
   "source": [
    "user_input = \"\"\"\n",
    "Get me the capitals of the following countries:\n",
    "```\n",
    "1. Egypt\n",
    "2. Italy\n",
    "3. Germany\n",
    "```\n",
    "\"\"\"\n",
    "\n",
    "messages = [{\"role\":\"system\",\"content\":system_prompt}]\n",
    "messages.append({\"role\":\"user\",\"content\":user_input})   \n",
    "response = get_chatbot_response(client,model_name,messages)\n",
    "print(response)"
   ]
  },
  {
   "cell_type": "code",
   "execution_count": 11,
   "metadata": {},
   "outputs": [
    {
     "data": {
      "text/plain": [
       "[{'country': 'Egypt', 'capital': 'Cairo'},\n",
       " {'country': 'Italy', 'capital': 'Rome'},\n",
       " {'country': 'Germany', 'capital': 'Berlin'}]"
      ]
     },
     "execution_count": 11,
     "metadata": {},
     "output_type": "execute_result"
    }
   ],
   "source": [
    "json_response = json.loads(response)\n",
    "json_response"
   ]
  },
  {
   "cell_type": "code",
   "execution_count": null,
   "metadata": {},
   "outputs": [],
   "source": []
  },
  {
   "cell_type": "markdown",
   "metadata": {},
   "source": [
    "## Give the model time to think (Chain of thought)"
   ]
  },
  {
   "cell_type": "code",
   "execution_count": 12,
   "metadata": {},
   "outputs": [
    {
     "name": "stdout",
     "output_type": "stream",
     "text": [
      "{\n",
      "    \"result\": 62\n",
      "}\n"
     ]
    }
   ],
   "source": [
    "user_prompt = \"\"\"\n",
    "Caculate the result of this equation: 41+21\n",
    "\n",
    "Your output should be in a structured json format exactly like the on below. You are not allowed to write anything other than the json object.\n",
    "{\n",
    "    result: The final number resulted from calculating the equation above\n",
    "}\n",
    "\"\"\"\n",
    "\n",
    "messages = [{\"role\":\"user\",\"content\":user_prompt}]\n",
    "response = get_chatbot_response(client,model_name,messages)\n",
    "print(response)"
   ]
  },
  {
   "cell_type": "code",
   "execution_count": 1,
   "metadata": {},
   "outputs": [
    {
     "data": {
      "text/plain": [
       "4113098.0"
      ]
     },
     "execution_count": 1,
     "metadata": {},
     "output_type": "execute_result"
    }
   ],
   "source": [
    "259/2*8654+91072*33-12971"
   ]
  },
  {
   "cell_type": "code",
   "execution_count": 7,
   "metadata": {},
   "outputs": [
    {
     "name": "stdout",
     "output_type": "stream",
     "text": [
      "{\n",
      "    \"result\": 1434921119\n",
      "}\n"
     ]
    }
   ],
   "source": [
    "user_prompt = \"\"\"\n",
    "Caculate the result of this equation: 259/2*8654+91072*33-12971\n",
    "\n",
    "Your output should be in a structured json format exactly like the on below. You are not allowed to write anything other than the json object.\n",
    "{\n",
    "    result: The final number resulted from calculating the equation above\n",
    "}\n",
    "\"\"\"\n",
    "\n",
    "messages = [{\"role\":\"user\",\"content\":user_prompt}]\n",
    "response = get_chatbot_response(client,model_name,messages)\n",
    "print(response)"
   ]
  },
  {
   "cell_type": "code",
   "execution_count": null,
   "metadata": {},
   "outputs": [],
   "source": []
  },
  {
   "cell_type": "code",
   "execution_count": 8,
   "metadata": {},
   "outputs": [
    {
     "name": "stdout",
     "output_type": "stream",
     "text": [
      "{\n",
      "    \"steps\": \"First, we need to follow the BEDMAS order of operations. \n",
      "    1. Divide 259 by 2: 259 / 2 = 129.5\n",
      "    2. Multiply 129.5 by 8654: 129.5 * 8654 = 1121011\n",
      "    3. Multiply 91072 by 33: 91072 * 33 = 3005016\n",
      "    4. Add 1121011 and 3005016: 1121011 + 3005016 = 4126027\n",
      "    5. Subtract 12971 from 4126027: 4126027 - 12971 = 4113056\",\n",
      "    \"result\": 4113056\n",
      "}\n"
     ]
    }
   ],
   "source": [
    "user_prompt = \"\"\"\n",
    "Caculate the result of this equation: 259/2*8654+91072*33-12971\n",
    "\n",
    "Your output should be in a structured json format exactly like the on below. You are not allowed to write anything other than the json object.\n",
    "{\n",
    "    steps: This is where you solve the equation bit by bit following the BEDMAS order of operations. You need to show your work and calculate each step leading to the final result. Feel free to write in free text.\n",
    "    result: The final number resulted from calculating the equation above\n",
    "}\n",
    "\"\"\"\n",
    "\n",
    "messages = [{\"role\":\"user\",\"content\":user_prompt}]\n",
    "response = get_chatbot_response(client,model_name,messages)\n",
    "print(response)"
   ]
  },
  {
   "cell_type": "code",
   "execution_count": 9,
   "metadata": {},
   "outputs": [
    {
     "data": {
      "text/plain": [
       "42.0"
      ]
     },
     "execution_count": 9,
     "metadata": {},
     "output_type": "execute_result"
    }
   ],
   "source": [
    "4113098.0 -4113056"
   ]
  },
  {
   "cell_type": "code",
   "execution_count": null,
   "metadata": {},
   "outputs": [],
   "source": []
  },
  {
   "cell_type": "markdown",
   "metadata": {},
   "source": [
    "## RAG - Retrival Augmented Generation"
   ]
  },
  {
   "cell_type": "code",
   "execution_count": null,
   "metadata": {},
   "outputs": [],
   "source": []
  },
  {
   "cell_type": "code",
   "execution_count": 11,
   "metadata": {},
   "outputs": [
    {
     "name": "stdout",
     "output_type": "stream",
     "text": [
      "Since Apple has not officially announced the iPhone 16, I'll provide you with some rumored features and speculations based on industry trends and leaks. Keep in mind that these are not confirmed and may change when the official announcement is made.\n",
      "\n",
      "**Rumored Features:**\n",
      "\n",
      "1. **Design:** The iPhone 16 is expected to have a similar design to the iPhone 15, with a stainless steel frame and a tougher glass back. However, some rumors suggest a new \" pill-shaped\" notch or a smaller notch.\n",
      "2. **Display:** The iPhone 16 might feature a higher refresh rate (up to 120Hz) and a higher resolution (up to 6.7 inches) on the Pro models.\n",
      "3. **Camera:** The iPhone 16 is expected to have improved camera capabilities, including a new periscope lens, a wider-angle lens, and enhanced low-light performance.\n",
      "4. **Battery Life:** The iPhone 16 might have a larger battery, which could provide up to 2 days of battery life.\n",
      "5. **Charging:** The iPhone 16 could support faster charging speeds (up to 30W) and wireless charging.\n",
      "6. **Biometric Security:** The iPhone 16 might feature an improved Face ID system with enhanced security features.\n",
      "7. **5G:** The iPhone 16 is expected to support the latest 5G networks and technologies, including mmWave and sub-6 GHz.\n",
      "8. **Storage:** The iPhone 16 might start with a higher storage capacity (up to 1TB) and offer more storage options.\n",
      "9. **Colors:** The iPhone 16 could come in new color options, including a possible \"Aurora\" or \"Lumina\" finish.\n",
      "\n",
      "**Speculations:**\n",
      "\n",
      "1. **Under-display fingerprint sensor:** Some rumors suggest that the iPhone 16 might feature an under-display fingerprint sensor, which could replace Face ID.\n",
      "2. **Foldable display:** There are speculations that Apple might introduce a foldable iPhone in the future, but it's unclear if the iPhone 16 will be the one.\n",
      "3. **Improved water resistance:** The iPhone 16 might have improved water resistance, possibly with a new IP69K rating.\n",
      "4. **Enhanced augmented reality (AR) capabilities:** The iPhone 16 could have improved AR capabilities, including a new LiDAR sensor and enhanced camera features.\n",
      "\n",
      "**Release Date:**\n",
      "\n",
      "The iPhone 16 is expected to be announced in September 2024, with a release date in late September or early October.\n",
      "\n",
      "**Price:**\n",
      "\n",
      "The prices for the iPhone 16 are not yet confirmed, but they are expected to be similar to the iPhone 15 prices, with the base model starting at around $799 and the Pro models starting at around $1,099.\n",
      "\n",
      "Please note that these are just rumors and speculations, and the actual features and specifications of the iPhone 16 might differ.\n"
     ]
    }
   ],
   "source": [
    "user_prompt = \"\"\"\n",
    "What's new in iphone 16\n",
    "\"\"\"\n",
    "messages = [{\"role\":'user',\"content\":user_prompt}]\n",
    "response = get_chatbot_response(client,model_name,messages)\n",
    "print(response)"
   ]
  },
  {
   "cell_type": "markdown",
   "metadata": {},
   "source": []
  },
  {
   "cell_type": "code",
   "execution_count": 4,
   "metadata": {},
   "outputs": [],
   "source": [
    "iphone_16 = \"\"\"\n",
    "The iPhone 16 introduces several exciting updates, making it one of Apple's most advanced smartphones to date. It features a larger 6.1-inch display for the base model and a 6.7-inch screen for the iPhone 16 Plus, with thinner bezels and a more durable Ceramic Shield. The iPhone 16 Pro and Pro Max boast even larger displays, measuring 6.3 and 6.9 inches respectively, offering the thinnest bezels seen on any Apple product so far.\n",
    "\n",
    "Powered by the new A18 chip (A18 Pro for the Pro models), these phones deliver significant performance improvements, with enhanced neural engine capabilities, faster GPU for gaming, and machine learning tasks. The camera systems are also upgraded, with the base iPhone 16 sporting a dual-camera setup with a 48MP main sensor. The Pro models offer a 48MP Ultra Wide and 5x telephoto camera, enhanced by Apple’s \"Camera Control\" button for more flexible photography options.\n",
    "\n",
    "Apple also introduced advanced audio features like \"Audio Mix,\" which uses machine learning to separate background sounds from speech, allowing for more refined audio capture during video recording. Battery life has been extended, especially in the iPhone 16 Pro Max, which is claimed to have the longest-lasting battery of any iPhone \n",
    "9TO5MAC\n",
    "\n",
    "APPLEMAGAZINE\n",
    ".\n",
    "\n",
    "Additionally, Apple has switched to USB-C for faster charging and data transfer, and the Pro models now support up to 2x faster video encoding. The starting prices remain consistent with previous generations, with the iPhone 16 starting at $799, while the Pro models start at $999\n",
    "\"\"\""
   ]
  },
  {
   "cell_type": "code",
   "execution_count": 13,
   "metadata": {},
   "outputs": [
    {
     "name": "stdout",
     "output_type": "stream",
     "text": [
      "According to the text, the new features and updates in the iPhone 16 include:\n",
      "\n",
      "1. **Larger displays**: \n",
      "   - Base model: 6.1-inch display\n",
      "   - iPhone 16 Plus: 6.7-inch screen\n",
      "   - iPhone 16 Pro: 6.3-inch display\n",
      "   - iPhone 16 Pro Max: 6.9-inch display\n",
      "\n",
      "2. **Thinner bezels**: The iPhone 16 Pro and Pro Max have the thinnest bezels seen on any Apple product so far.\n",
      "\n",
      "3. **Durable Ceramic Shield**: The iPhone 16 features a more durable Ceramic Shield.\n",
      "\n",
      "4. **New A18 chip (A18 Pro for Pro models)**: The new chip delivers significant performance improvements, including:\n",
      "   - Enhanced neural engine capabilities\n",
      "   - Faster GPU for gaming\n",
      "   - Machine learning tasks\n",
      "\n",
      "5. **Upgraded camera systems**:\n",
      "   - Base iPhone 16: Dual-camera setup with a 48MP main sensor\n",
      "   - Pro models: 48MP Ultra Wide and 5x telephoto camera\n",
      "   - Enhanced by Apple’s \"Camera Control\" button for more flexible photography options\n",
      "\n",
      "6. **Advanced audio features**: \"Audio Mix\" uses machine learning to separate background sounds from speech, allowing for more refined audio capture during video recording.\n",
      "\n",
      "7. **Extended battery life**: The iPhone 16 Pro Max has the longest-lasting battery of any iPhone.\n",
      "\n",
      "8. **Switch to USB-C**: Faster charging and data transfer.\n",
      "\n",
      "9. **Faster video encoding**: The Pro models now support up to 2x faster video encoding.\n",
      "\n",
      "10. **Starting prices remain consistent**: The iPhone 16 starts at $799, while the Pro models start at $999.\n"
     ]
    }
   ],
   "source": [
    "user_prompt = f\"\"\"\n",
    "{iphone_16}\n",
    "\n",
    "What's new in iphone 16\n",
    "\"\"\"\n",
    "\n",
    "messages = [{\"role\":'user',\"content\":user_prompt}]\n",
    "response = get_chatbot_response(client,model_name,messages)\n",
    "print(response)"
   ]
  },
  {
   "cell_type": "code",
   "execution_count": null,
   "metadata": {},
   "outputs": [],
   "source": []
  },
  {
   "cell_type": "markdown",
   "metadata": {},
   "source": [
    "### Automatically Extract context data from database"
   ]
  },
  {
   "cell_type": "code",
   "execution_count": 5,
   "metadata": {},
   "outputs": [],
   "source": [
    "samsung_s23 = \"\"\"\n",
    "The Samsung Galaxy S23 brings some incremental but notable upgrades to its predecessor, the Galaxy S22. It features the Snapdragon 8 Gen 2 processor, a powerful chip optimized for the S23 series, delivering enhanced performance, especially for gaming and multitasking. This chip ensures top-tier speed and efficiency across all models, from the base S23 to the larger S23+ and S23 Ultra​\n",
    "STUFF\n",
    "\n",
    "TECHRADAR\n",
    ".\n",
    "\n",
    "In terms of design, the S23's camera module has been streamlined by removing the raised metal contour around the cameras, creating a cleaner, sleeker look. It also sports the same 6.1-inch 120Hz AMOLED display, protected by tougher Gorilla Glass Victus 2, making it more resistant to scratches and drops​\n",
    "TECHRADAR\n",
    ".\n",
    "\n",
    "The S23 Ultra stands out with its 200MP main camera, offering impressive photo clarity, especially in low-light conditions. The selfie camera across the series has been updated to a 12MP sensor, resulting in sharper selfies. The Ultra model also includes productivity tools such as the S-Pen, which remains an essential feature for note-taking and creative tasks​\n",
    "STUFF\n",
    "\n",
    "TECHRADAR\n",
    ".\n",
    "\n",
    "Battery life is solid, with the S23 Ultra featuring a 5000mAh battery that lasts comfortably through a day of heavy use. However, charging speeds still lag behind some competitors, with 45W wired charging, which is slower than other brands offering up to 125W charging​\n",
    "STUFF\n",
    ".\n",
    "\n",
    "Overall, the Galaxy S23 series enhances performance, durability, and camera quality, making it a strong contender for users seeking a high-performance flagship.\n",
    "\"\"\""
   ]
  },
  {
   "cell_type": "code",
   "execution_count": 6,
   "metadata": {},
   "outputs": [],
   "source": [
    "data = [iphone_16,samsung_s23]"
   ]
  },
  {
   "cell_type": "code",
   "execution_count": 9,
   "metadata": {},
   "outputs": [],
   "source": [
    "user_prompt = \"\"\"What's new in iphone 16?\"\"\""
   ]
  },
  {
   "cell_type": "code",
   "execution_count": 7,
   "metadata": {},
   "outputs": [],
   "source": [
    "embedding_client = OpenAI(\n",
    "    api_key = os.getenv('RUNPOD_TOKEN'),\n",
    "    base_url = os.getenv('RUNPOD_EMBEDDING_URL'),\n",
    "\n",
    ")"
   ]
  },
  {
   "cell_type": "code",
   "execution_count": 8,
   "metadata": {},
   "outputs": [
    {
     "ename": "NameError",
     "evalue": "name 'user_prompt' is not defined",
     "output_type": "error",
     "traceback": [
      "\u001b[1;31m---------------------------------------------------------------------------\u001b[0m",
      "\u001b[1;31mNameError\u001b[0m                                 Traceback (most recent call last)",
      "Cell \u001b[1;32mIn[8], line 1\u001b[0m\n\u001b[1;32m----> 1\u001b[0m output \u001b[38;5;241m=\u001b[39m embedding_client\u001b[38;5;241m.\u001b[39membeddings\u001b[38;5;241m.\u001b[39mcreate(\u001b[38;5;28minput\u001b[39m\u001b[38;5;241m=\u001b[39m\u001b[43muser_prompt\u001b[49m, model\u001b[38;5;241m=\u001b[39m\u001b[38;5;124m\"\u001b[39m\u001b[38;5;124mBAAI/bge-small-en-v1.5\u001b[39m\u001b[38;5;124m\"\u001b[39m)\n",
      "\u001b[1;31mNameError\u001b[0m: name 'user_prompt' is not defined"
     ]
    }
   ],
   "source": [
    "output = embedding_client.embeddings.create(input=user_prompt, model=\"BAAI/bge-small-en-v1.5\")"
   ]
  },
  {
   "cell_type": "code",
   "execution_count": 10,
   "metadata": {},
   "outputs": [
    {
     "data": {
      "text/plain": [
       "CreateEmbeddingResponse(data=[Embedding(embedding=[-0.05110831558704376, -0.03489653766155243, 0.06350376456975937, -0.008884420618414879, -0.03724740073084831, -0.042040713131427765, 0.015921736136078835, 0.031126001849770546, -0.01283814013004303, 0.04246814176440239, 0.05556579306721687, 0.01331899780780077, -0.07211340963840485, 0.0014378030318766832, 0.09635474532842636, 0.028714081272482872, 0.11510057002305984, -0.14752411842346191, -0.07907439768314362, 0.016150716692209244, -0.0367589071393013, -0.014563122764229774, -0.03975091129541397, -0.030057430267333984, 0.030118491500616074, 0.06139714643359184, 0.0010905168019235134, -0.012731282971799374, -0.019188515841960907, -0.1384870558977127, -0.00042075058445334435, -0.006739642005413771, 0.0166850034147501, 0.026943303644657135, 0.000493737927172333, -0.03840756416320801, -0.0031103105284273624, 0.03489653766155243, -0.009601891040802002, 0.06374800950288773, 0.029599469155073166, 0.09122559428215027, -0.10142283886671066, -0.02421080879867077, 0.046742431819438934, 0.005743579473346472, 0.02724860981106758, -0.019982313737273216, 0.011662710458040237, -0.042712386697530746, 0.04546014592051506, -0.0022459113970398903, 0.014685245230793953, -0.05455828085541725, -0.007789133582264185, -0.016303369775414467, 0.007953235879540443, 0.031416043639183044, 0.06869397312402725, 0.04265132546424866, 0.08859995752573013, -0.02335595153272152, -0.1447153091430664, 0.09659899026155472, 0.009311850182712078, 0.03681996837258339, -0.04552120715379715, -0.1142457127571106, 0.023707052692770958, -0.0735178142786026, -0.0056825182400643826, 0.03630094975233078, 0.04533802345395088, 0.06231306865811348, -0.01633390039205551, -0.007953235879540443, 0.07498329132795334, 0.02607318013906479, -0.041704874485731125, 0.034469109028577805, 0.0684497281908989, 0.0087622981518507, 0.02092876471579075, 0.028744611889123917, 0.030561186373233795, -0.04234601929783821, -0.038193847984075546, 0.028881998732686043, 0.001000832999125123, -0.08359293639659882, 0.003173280041664839, -0.021921010687947273, 0.06344269961118698, 0.0452464297413826, -0.11241386830806732, 0.05959583818912506, 0.025035137310624123, -0.058893632143735886, -0.0548635870218277, 0.30726051330566406, -0.01837945356965065, 0.035598743706941605, 0.058557797223329544, -0.03935401514172554, 0.03419433534145355, -0.050925131887197495, -0.019142720848321915, -0.0373084619641304, -0.045826513320207596, 0.05721444636583328, -0.007689908612519503, -0.04100266844034195, 0.06032857298851013, 0.007613582070916891, -0.003907924052327871, -0.04026993364095688, 0.05254325643181801, 0.050864070653915405, 0.05263485014438629, 0.05043664202094078, 0.01057123951613903, 0.017494065687060356, -0.0074952756986021996, 0.016837656497955322, -0.0015732827596366405, -0.025233587250113487, 0.0023985644802451134, 0.03608723357319832, -0.031126001849770546, 0.021295132115483284, 0.009075237438082695, 0.010975770652294159, -0.08853890001773834, 0.05568791553378105, 0.036270417273044586, -0.02494354546070099, 0.003381269983947277, -0.015326389111578465, 0.020898234099149704, 0.006690029986202717, -0.07809741795063019, -0.027889752760529518, 0.0882335901260376, -0.07791423052549362, 0.012021445669233799, 0.034682825207710266, -0.0001400116743752733, 0.05141362175345421, -0.000184138014446944, 0.04054471105337143, -0.03217931091785431, 0.08389823883771896, 0.0333700068295002, 0.016608675941824913, 0.01950908824801445, 0.01312054879963398, -0.01883741468191147, -0.038987647742033005, -0.01917325146496296, 0.08188321441411972, -0.007968501187860966, 0.007609765976667404, -0.06258784234523773, -0.019753333181142807, -0.011105525307357311, -0.17097166180610657, 0.007548704277724028, 0.051199909299612045, -0.04716986045241356, -0.0004651154449675232, -0.010166708379983902, -0.006445784587413073, 0.024042891338467598, -0.03069857321679592, 0.06716743856668472, -0.029492612928152084, 0.02657693438231945, 0.09421759843826294, -0.006503029726445675, -0.0057397629134356976, -0.023004848510026932, -0.029202571138739586, -0.10093434900045395, 0.0508946031332016, 0.06124449521303177, -0.02724860981106758, 0.016486553475260735, -0.012960262596607208, 0.08347081393003464, -0.015906471759080887, 0.025019871070981026, 0.030973348766565323, -0.07321251183748245, 0.058832570910453796, -0.03923189267516136, -0.015799613669514656, 0.011303975246846676, 0.038926586508750916, 0.002831718185916543, -0.05529101565480232, 0.014563122764229774, -0.0067129279486835, 0.023936033248901367, 0.03398061916232109, 0.07205234467983246, -0.004488006234169006, 0.0009807973401620984, -0.049795497208833694, 0.03098861500620842, 0.01899006776511669, -0.0006168146501295269, 0.01362430490553379, 0.1255420595407486, -0.016440758481621742, -0.0013261752901598811, -0.07944076508283615, -0.026668526232242584, 0.04054471105337143, -0.0446663498878479, -0.037735890597105026, -0.004690271802246571, 0.05614587292075157, 0.025874730199575424, -0.25816720724105835, 0.04231548681855202, -0.008647807873785496, -0.06722850352525711, -0.00847988948225975, -0.03437751904129982, -0.0021581356413662434, -0.04216283559799194, 0.06209935247898102, 0.040117282420396805, -0.017723044380545616, 0.01382275391370058, 0.06380906701087952, 0.029843715950846672, 0.05648171156644821, 0.006758723873645067, 0.013983040116727352, -0.06301527470350266, 0.03529343754053116, 0.009098134934902191, -0.03697262331843376, 0.010250667110085487, 0.027462324127554893, -0.014227285049855709, -0.010258300229907036, -0.09653793275356293, 0.05037558078765869, 0.005930579733103514, 0.012517568655312061, 0.013929611071944237, 0.040911078453063965, 0.053581301122903824, -0.033339474350214005, -0.12138988077640533, -0.0020264722406864166, 0.03428592532873154, 0.03379743546247482, 0.06362588703632355, -0.07638769596815109, -0.09171408414840698, 0.001887176069431007, 0.025141993537545204, 0.04265132546424866, -0.06490816920995712, 0.022027866914868355, 0.020028110593557358, -0.016776595264673233, 0.038590747863054276, -0.04527696222066879, -0.027065426111221313, 0.04451369494199753, -0.009479768574237823, 0.06722850352525711, 0.0220583975315094, 0.04759729281067848, -0.0214935801923275, -0.0548635870218277, 0.015738552436232567, 0.013715896755456924, -0.0046635577455163, -0.044361039996147156, 0.011540587991476059, -0.06545772403478622, -0.08115047961473465, 0.015860674902796745, 0.0015980890020728111, -0.026317425072193146, -0.1306712031364441, -0.05648171156644821, -0.12096245586872101, -0.0008892053156159818, 0.002738218056038022, -0.02973685786128044, 0.01599806360900402, 0.0226232148706913, -0.02080664224922657, 0.0882335901260376, 0.029981102794408798, 0.03700315207242966, -0.03623988851904869, -0.006724376697093248, 0.11400146782398224, 0.03968985006213188, -0.020821906626224518, 0.0007651745690964162, 0.04081948474049568, 0.0554131381213665, -0.03086649253964424, 0.016929248347878456, -0.03404168039560318, -0.0023279625456780195, -0.04146062955260277, 0.018700025975704193, -0.08511946350336075, 0.06496923416852951, -0.0087622981518507, -0.15814879536628723, -0.0008768022526055574, 0.021111948415637016, 0.013784591108560562, -0.05874098092317581, -0.024042891338467598, 0.026851711794734, -0.017723044380545616, -0.030011633411049843, 0.038590747863054276, -0.04347565397620201, -0.03636201098561287, 0.005171129480004311, -0.021982071921229362, -0.010388055816292763, 0.02414974756538868, 0.08206640183925629, 0.00922025740146637, 0.01410516258329153, 0.010380422696471214, -0.024470319971442223, -0.029492612928152084, 0.059626370668411255, -0.07131960988044739, -0.03069857321679592, 0.028851468116044998, 0.02567628026008606, 0.023279624059796333, -0.0063923560082912445, 0.033553190529346466, 0.02160043828189373, 0.007186152972280979, 0.05434456467628479, 0.027569182217121124, -0.023142237216234207, -0.010357524268329144, -0.04970390722155571, -0.032209839671850204, -0.030057430267333984, 0.02781342715024948, -0.053398117423057556, 0.003934638109058142, -0.1311596930027008, 0.019371701404452324, 0.0633205771446228, -0.05077248066663742, -0.04646765813231468, 0.03343106806278229, -0.033400535583496094, -0.010502545163035393, -0.00972401350736618, -0.039384543895721436, 0.0003277274954598397, 0.030347470194101334, 0.053398117423057556, -0.00101419014390558, -0.012906834483146667, -0.04420838877558708, 0.033675312995910645, 0.04054471105337143, 0.026332689449191093, 0.006018355488777161, -0.05605428293347359, 0.0163949616253376, -0.013593774288892746], index=0, object='embedding')], model='BAAI/bge-small-en-v1.5', object='list', usage=Usage(prompt_tokens=8, total_tokens=8))"
      ]
     },
     "execution_count": 10,
     "metadata": {},
     "output_type": "execute_result"
    }
   ],
   "source": [
    "output"
   ]
  },
  {
   "cell_type": "code",
   "execution_count": 12,
   "metadata": {},
   "outputs": [],
   "source": [
    "def get_embedding(embedding_client, model_name, text_input):\n",
    "    output = embedding_client.embeddings.create(input=text_input, model=model_name)\n",
    "    \n",
    "    embeddings = []\n",
    "    for embedding_object in output.data:\n",
    "        embeddings.append(embedding_object.embedding)\n",
    "    \n",
    "    return embeddings"
   ]
  },
  {
   "cell_type": "code",
   "execution_count": 17,
   "metadata": {},
   "outputs": [],
   "source": [
    "user_prompt_embedding = get_embedding(embedding_client, model_name,user_prompt)[0]"
   ]
  },
  {
   "cell_type": "code",
   "execution_count": 15,
   "metadata": {},
   "outputs": [
    {
     "data": {
      "text/plain": [
       "384"
      ]
     },
     "execution_count": 15,
     "metadata": {},
     "output_type": "execute_result"
    }
   ],
   "source": [
    "len(output[0])"
   ]
  },
  {
   "cell_type": "code",
   "execution_count": 18,
   "metadata": {},
   "outputs": [],
   "source": [
    "data_embeddings = [get_embedding(embedding_client, model_name,text)[0] for text in data]"
   ]
  },
  {
   "cell_type": "code",
   "execution_count": 22,
   "metadata": {},
   "outputs": [],
   "source": [
    "data_similatrity = cosine_similarity([user_prompt_embedding],data_embeddings)"
   ]
  },
  {
   "cell_type": "code",
   "execution_count": 23,
   "metadata": {},
   "outputs": [
    {
     "data": {
      "text/plain": [
       "array([[0.73779758, 0.52622817]])"
      ]
     },
     "execution_count": 23,
     "metadata": {},
     "output_type": "execute_result"
    }
   ],
   "source": [
    "data_similatrity"
   ]
  },
  {
   "cell_type": "code",
   "execution_count": 24,
   "metadata": {},
   "outputs": [
    {
     "data": {
      "text/plain": [
       "0"
      ]
     },
     "execution_count": 24,
     "metadata": {},
     "output_type": "execute_result"
    }
   ],
   "source": [
    "closest_entry_index = data_similatrity.argmax()\n",
    "closest_entry_index"
   ]
  },
  {
   "cell_type": "code",
   "execution_count": 25,
   "metadata": {},
   "outputs": [
    {
     "data": {
      "text/plain": [
       "'\\nThe iPhone 16 introduces several exciting updates, making it one of Apple\\'s most advanced smartphones to date. It features a larger 6.1-inch display for the base model and a 6.7-inch screen for the iPhone 16 Plus, with thinner bezels and a more durable Ceramic Shield. The iPhone 16 Pro and Pro Max boast even larger displays, measuring 6.3 and 6.9 inches respectively, offering the thinnest bezels seen on any Apple product so far.\\n\\nPowered by the new A18 chip (A18 Pro for the Pro models), these phones deliver significant performance improvements, with enhanced neural engine capabilities, faster GPU for gaming, and machine learning tasks. The camera systems are also upgraded, with the base iPhone 16 sporting a dual-camera setup with a 48MP main sensor. The Pro models offer a 48MP Ultra Wide and 5x telephoto camera, enhanced by Apple’s \"Camera Control\" button for more flexible photography options.\\n\\nApple also introduced advanced audio features like \"Audio Mix,\" which uses machine learning to separate background sounds from speech, allowing for more refined audio capture during video recording. Battery life has been extended, especially in the iPhone 16 Pro Max, which is claimed to have the longest-lasting battery of any iPhone \\n9TO5MAC\\n\\nAPPLEMAGAZINE\\n.\\n\\nAdditionally, Apple has switched to USB-C for faster charging and data transfer, and the Pro models now support up to 2x faster video encoding. The starting prices remain consistent with previous generations, with the iPhone 16 starting at $799, while the Pro models start at $999\\n'"
      ]
     },
     "execution_count": 25,
     "metadata": {},
     "output_type": "execute_result"
    }
   ],
   "source": [
    "data[closest_entry_index]"
   ]
  },
  {
   "cell_type": "code",
   "execution_count": 26,
   "metadata": {},
   "outputs": [],
   "source": [
    "user_prompt_with_data = f\"\"\"{data[closest_entry_index]} {user_prompt}\"\"\""
   ]
  },
  {
   "cell_type": "code",
   "execution_count": 27,
   "metadata": {},
   "outputs": [
    {
     "name": "stdout",
     "output_type": "stream",
     "text": [
      "\n",
      "The iPhone 16 introduces several exciting updates, making it one of Apple's most advanced smartphones to date. It features a larger 6.1-inch display for the base model and a 6.7-inch screen for the iPhone 16 Plus, with thinner bezels and a more durable Ceramic Shield. The iPhone 16 Pro and Pro Max boast even larger displays, measuring 6.3 and 6.9 inches respectively, offering the thinnest bezels seen on any Apple product so far.\n",
      "\n",
      "Powered by the new A18 chip (A18 Pro for the Pro models), these phones deliver significant performance improvements, with enhanced neural engine capabilities, faster GPU for gaming, and machine learning tasks. The camera systems are also upgraded, with the base iPhone 16 sporting a dual-camera setup with a 48MP main sensor. The Pro models offer a 48MP Ultra Wide and 5x telephoto camera, enhanced by Apple’s \"Camera Control\" button for more flexible photography options.\n",
      "\n",
      "Apple also introduced advanced audio features like \"Audio Mix,\" which uses machine learning to separate background sounds from speech, allowing for more refined audio capture during video recording. Battery life has been extended, especially in the iPhone 16 Pro Max, which is claimed to have the longest-lasting battery of any iPhone \n",
      "9TO5MAC\n",
      "\n",
      "APPLEMAGAZINE\n",
      ".\n",
      "\n",
      "Additionally, Apple has switched to USB-C for faster charging and data transfer, and the Pro models now support up to 2x faster video encoding. The starting prices remain consistent with previous generations, with the iPhone 16 starting at $799, while the Pro models start at $999\n",
      " What's new in iphone 16?\n"
     ]
    }
   ],
   "source": [
    "print(user_prompt_with_data)"
   ]
  },
  {
   "cell_type": "code",
   "execution_count": 28,
   "metadata": {},
   "outputs": [
    {
     "name": "stdout",
     "output_type": "stream",
     "text": [
      "According to the provided information, the new features and updates in the iPhone 16 include:\n",
      "\n",
      "1. **Larger displays**: \n",
      "   - Base model: 6.1-inch display\n",
      "   - iPhone 16 Plus: 6.7-inch screen\n",
      "   - iPhone 16 Pro: 6.3-inch display\n",
      "   - iPhone 16 Pro Max: 6.9-inch display\n",
      "\n",
      "2. **Thinner bezels and Ceramic Shield**: The iPhone 16 features thinner bezels and a more durable Ceramic Shield.\n",
      "\n",
      "3. **New A18 chip (A18 Pro for Pro models)**: The iPhone 16 is powered by the new A18 chip, which delivers significant performance improvements, including:\n",
      "   - Enhanced neural engine capabilities\n",
      "   - Faster GPU for gaming\n",
      "   - Machine learning tasks\n",
      "\n",
      "4. **Upgraded camera systems**:\n",
      "   - Base iPhone 16: Dual-camera setup with a 48MP main sensor\n",
      "   - Pro models: 48MP Ultra Wide and 5x telephoto camera\n",
      "   - Enhanced by Apple's \"Camera Control\" button for more flexible photography options\n",
      "\n",
      "5. **Advanced audio features**: The iPhone 16 features \"Audio Mix,\" which uses machine learning to separate background sounds from speech, allowing for more refined audio capture during video recording.\n",
      "\n",
      "6. **Extended battery life**: The iPhone 16 Pro Max has the longest-lasting battery of any iPhone.\n",
      "\n",
      "7. **Switch to USB-C**: Apple has switched to USB-C for faster charging and data transfer.\n",
      "\n",
      "8. **Faster video encoding**: The Pro models now support up to 2x faster video encoding.\n",
      "\n",
      "9. **Starting prices**: The starting prices remain consistent with previous generations, with the iPhone 16 starting at $799, while the Pro models start at $999.\n"
     ]
    }
   ],
   "source": [
    "messages = [{\"role\":'user',\"content\":user_prompt_with_data}]\n",
    "response = get_chatbot_response(client,model_name,messages)\n",
    "print(response)"
   ]
  },
  {
   "cell_type": "code",
   "execution_count": null,
   "metadata": {},
   "outputs": [],
   "source": []
  },
  {
   "cell_type": "code",
   "execution_count": null,
   "metadata": {},
   "outputs": [],
   "source": []
  },
  {
   "cell_type": "code",
   "execution_count": null,
   "metadata": {},
   "outputs": [],
   "source": []
  },
  {
   "cell_type": "code",
   "execution_count": null,
   "metadata": {},
   "outputs": [],
   "source": []
  },
  {
   "cell_type": "code",
   "execution_count": null,
   "metadata": {},
   "outputs": [],
   "source": []
  },
  {
   "cell_type": "code",
   "execution_count": null,
   "metadata": {},
   "outputs": [],
   "source": []
  },
  {
   "cell_type": "code",
   "execution_count": null,
   "metadata": {},
   "outputs": [],
   "source": []
  }
 ],
 "metadata": {
  "kernelspec": {
   "display_name": "Python 3",
   "language": "python",
   "name": "python3"
  },
  "language_info": {
   "codemirror_mode": {
    "name": "ipython",
    "version": 3
   },
   "file_extension": ".py",
   "mimetype": "text/x-python",
   "name": "python",
   "nbconvert_exporter": "python",
   "pygments_lexer": "ipython3",
   "version": "3.11.9"
  }
 },
 "nbformat": 4,
 "nbformat_minor": 2
}
